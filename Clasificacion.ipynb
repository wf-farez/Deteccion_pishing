{
  "nbformat": 4,
  "nbformat_minor": 0,
  "metadata": {
    "colab": {
      "name": "FinalML.ipynb",
      "provenance": []
    },
    "kernelspec": {
      "name": "python3",
      "display_name": "Python 3"
    },
    "language_info": {
      "name": "python"
    }
  },
  "cells": [
    {
      "cell_type": "code",
      "execution_count": 417,
      "metadata": {
        "id": "Y8fCEk9qPW2_"
      },
      "outputs": [],
      "source": [
        "#Librerias\n",
        "import pandas as pd #lectura datos\n",
        "import seaborn as sns\n",
        "from pandas.plotting import scatter_matrix\n",
        "import matplotlib.pyplot as plt\n",
        "\n",
        "#import metricas para evaluacion\n",
        "from sklearn.metrics import confusion_matrix\n",
        "from sklearn.metrics import classification_report\n",
        "#clasificadores\n",
        "from sklearn.ensemble import RandomForestClassifier,GradientBoostingClassifier\n",
        "import xgboost as xgb\n",
        "from sklearn.tree import DecisionTreeClassifier\n",
        "from sklearn.svm import SVC\n",
        "\n",
        "\n",
        "from warnings import simplefilter\n",
        "simplefilter(action='ignore',category=FutureWarning)\n",
        "\n"
      ]
    },
    {
      "cell_type": "code",
      "source": [
        "#Carga de datos \n",
        "data=pd.read_csv(\"pishingdata.csv\")\n",
        "#eliminamos primera fila id\n",
        "del(data['id'])\n",
        "data.head()"
      ],
      "metadata": {
        "colab": {
          "base_uri": "https://localhost:8080/",
          "height": 270
        },
        "id": "nHl4R8YTPiuo",
        "outputId": "17643d55-70ca-466c-9468-fecc6de1a976"
      },
      "execution_count": 418,
      "outputs": [
        {
          "output_type": "execute_result",
          "data": {
            "text/plain": [
              "   SFH  popUpWidnow  SSLfinal_State  Request_URL  URL_of_Anchor  web_traffic  \\\n",
              "0    1           -1               1           -1             -1            1   \n",
              "1   -1           -1              -1           -1             -1            0   \n",
              "2    1           -1               0            0             -1            0   \n",
              "3    1            0               1           -1             -1            0   \n",
              "4   -1           -1               1           -1              0            0   \n",
              "\n",
              "   URL_Length  age_of_domain  having_IP_Address  Result  \n",
              "0           1              1                  0       0  \n",
              "1           1              1                  1       1  \n",
              "2          -1              1                  0       1  \n",
              "3           1              1                  0       0  \n",
              "4          -1              1                  0       1  "
            ],
            "text/html": [
              "\n",
              "  <div id=\"df-e6fde52a-a049-4e98-8a24-d4f1af032a90\">\n",
              "    <div class=\"colab-df-container\">\n",
              "      <div>\n",
              "<style scoped>\n",
              "    .dataframe tbody tr th:only-of-type {\n",
              "        vertical-align: middle;\n",
              "    }\n",
              "\n",
              "    .dataframe tbody tr th {\n",
              "        vertical-align: top;\n",
              "    }\n",
              "\n",
              "    .dataframe thead th {\n",
              "        text-align: right;\n",
              "    }\n",
              "</style>\n",
              "<table border=\"1\" class=\"dataframe\">\n",
              "  <thead>\n",
              "    <tr style=\"text-align: right;\">\n",
              "      <th></th>\n",
              "      <th>SFH</th>\n",
              "      <th>popUpWidnow</th>\n",
              "      <th>SSLfinal_State</th>\n",
              "      <th>Request_URL</th>\n",
              "      <th>URL_of_Anchor</th>\n",
              "      <th>web_traffic</th>\n",
              "      <th>URL_Length</th>\n",
              "      <th>age_of_domain</th>\n",
              "      <th>having_IP_Address</th>\n",
              "      <th>Result</th>\n",
              "    </tr>\n",
              "  </thead>\n",
              "  <tbody>\n",
              "    <tr>\n",
              "      <th>0</th>\n",
              "      <td>1</td>\n",
              "      <td>-1</td>\n",
              "      <td>1</td>\n",
              "      <td>-1</td>\n",
              "      <td>-1</td>\n",
              "      <td>1</td>\n",
              "      <td>1</td>\n",
              "      <td>1</td>\n",
              "      <td>0</td>\n",
              "      <td>0</td>\n",
              "    </tr>\n",
              "    <tr>\n",
              "      <th>1</th>\n",
              "      <td>-1</td>\n",
              "      <td>-1</td>\n",
              "      <td>-1</td>\n",
              "      <td>-1</td>\n",
              "      <td>-1</td>\n",
              "      <td>0</td>\n",
              "      <td>1</td>\n",
              "      <td>1</td>\n",
              "      <td>1</td>\n",
              "      <td>1</td>\n",
              "    </tr>\n",
              "    <tr>\n",
              "      <th>2</th>\n",
              "      <td>1</td>\n",
              "      <td>-1</td>\n",
              "      <td>0</td>\n",
              "      <td>0</td>\n",
              "      <td>-1</td>\n",
              "      <td>0</td>\n",
              "      <td>-1</td>\n",
              "      <td>1</td>\n",
              "      <td>0</td>\n",
              "      <td>1</td>\n",
              "    </tr>\n",
              "    <tr>\n",
              "      <th>3</th>\n",
              "      <td>1</td>\n",
              "      <td>0</td>\n",
              "      <td>1</td>\n",
              "      <td>-1</td>\n",
              "      <td>-1</td>\n",
              "      <td>0</td>\n",
              "      <td>1</td>\n",
              "      <td>1</td>\n",
              "      <td>0</td>\n",
              "      <td>0</td>\n",
              "    </tr>\n",
              "    <tr>\n",
              "      <th>4</th>\n",
              "      <td>-1</td>\n",
              "      <td>-1</td>\n",
              "      <td>1</td>\n",
              "      <td>-1</td>\n",
              "      <td>0</td>\n",
              "      <td>0</td>\n",
              "      <td>-1</td>\n",
              "      <td>1</td>\n",
              "      <td>0</td>\n",
              "      <td>1</td>\n",
              "    </tr>\n",
              "  </tbody>\n",
              "</table>\n",
              "</div>\n",
              "      <button class=\"colab-df-convert\" onclick=\"convertToInteractive('df-e6fde52a-a049-4e98-8a24-d4f1af032a90')\"\n",
              "              title=\"Convert this dataframe to an interactive table.\"\n",
              "              style=\"display:none;\">\n",
              "        \n",
              "  <svg xmlns=\"http://www.w3.org/2000/svg\" height=\"24px\"viewBox=\"0 0 24 24\"\n",
              "       width=\"24px\">\n",
              "    <path d=\"M0 0h24v24H0V0z\" fill=\"none\"/>\n",
              "    <path d=\"M18.56 5.44l.94 2.06.94-2.06 2.06-.94-2.06-.94-.94-2.06-.94 2.06-2.06.94zm-11 1L8.5 8.5l.94-2.06 2.06-.94-2.06-.94L8.5 2.5l-.94 2.06-2.06.94zm10 10l.94 2.06.94-2.06 2.06-.94-2.06-.94-.94-2.06-.94 2.06-2.06.94z\"/><path d=\"M17.41 7.96l-1.37-1.37c-.4-.4-.92-.59-1.43-.59-.52 0-1.04.2-1.43.59L10.3 9.45l-7.72 7.72c-.78.78-.78 2.05 0 2.83L4 21.41c.39.39.9.59 1.41.59.51 0 1.02-.2 1.41-.59l7.78-7.78 2.81-2.81c.8-.78.8-2.07 0-2.86zM5.41 20L4 18.59l7.72-7.72 1.47 1.35L5.41 20z\"/>\n",
              "  </svg>\n",
              "      </button>\n",
              "      \n",
              "  <style>\n",
              "    .colab-df-container {\n",
              "      display:flex;\n",
              "      flex-wrap:wrap;\n",
              "      gap: 12px;\n",
              "    }\n",
              "\n",
              "    .colab-df-convert {\n",
              "      background-color: #E8F0FE;\n",
              "      border: none;\n",
              "      border-radius: 50%;\n",
              "      cursor: pointer;\n",
              "      display: none;\n",
              "      fill: #1967D2;\n",
              "      height: 32px;\n",
              "      padding: 0 0 0 0;\n",
              "      width: 32px;\n",
              "    }\n",
              "\n",
              "    .colab-df-convert:hover {\n",
              "      background-color: #E2EBFA;\n",
              "      box-shadow: 0px 1px 2px rgba(60, 64, 67, 0.3), 0px 1px 3px 1px rgba(60, 64, 67, 0.15);\n",
              "      fill: #174EA6;\n",
              "    }\n",
              "\n",
              "    [theme=dark] .colab-df-convert {\n",
              "      background-color: #3B4455;\n",
              "      fill: #D2E3FC;\n",
              "    }\n",
              "\n",
              "    [theme=dark] .colab-df-convert:hover {\n",
              "      background-color: #434B5C;\n",
              "      box-shadow: 0px 1px 3px 1px rgba(0, 0, 0, 0.15);\n",
              "      filter: drop-shadow(0px 1px 2px rgba(0, 0, 0, 0.3));\n",
              "      fill: #FFFFFF;\n",
              "    }\n",
              "  </style>\n",
              "\n",
              "      <script>\n",
              "        const buttonEl =\n",
              "          document.querySelector('#df-e6fde52a-a049-4e98-8a24-d4f1af032a90 button.colab-df-convert');\n",
              "        buttonEl.style.display =\n",
              "          google.colab.kernel.accessAllowed ? 'block' : 'none';\n",
              "\n",
              "        async function convertToInteractive(key) {\n",
              "          const element = document.querySelector('#df-e6fde52a-a049-4e98-8a24-d4f1af032a90');\n",
              "          const dataTable =\n",
              "            await google.colab.kernel.invokeFunction('convertToInteractive',\n",
              "                                                     [key], {});\n",
              "          if (!dataTable) return;\n",
              "\n",
              "          const docLinkHtml = 'Like what you see? Visit the ' +\n",
              "            '<a target=\"_blank\" href=https://colab.research.google.com/notebooks/data_table.ipynb>data table notebook</a>'\n",
              "            + ' to learn more about interactive tables.';\n",
              "          element.innerHTML = '';\n",
              "          dataTable['output_type'] = 'display_data';\n",
              "          await google.colab.output.renderOutput(dataTable, element);\n",
              "          const docLink = document.createElement('div');\n",
              "          docLink.innerHTML = docLinkHtml;\n",
              "          element.appendChild(docLink);\n",
              "        }\n",
              "      </script>\n",
              "    </div>\n",
              "  </div>\n",
              "  "
            ]
          },
          "metadata": {},
          "execution_count": 418
        }
      ]
    },
    {
      "cell_type": "code",
      "source": [
        "#info\n",
        "print(data.shape)"
      ],
      "metadata": {
        "colab": {
          "base_uri": "https://localhost:8080/"
        },
        "id": "ifWfYwx3Pulm",
        "outputId": "99295fd3-5e84-4a7a-d693-5127785281b3"
      },
      "execution_count": 419,
      "outputs": [
        {
          "output_type": "stream",
          "name": "stdout",
          "text": [
            "(1353, 10)\n"
          ]
        }
      ]
    },
    {
      "cell_type": "code",
      "source": [
        "LABELS=[\"pishing\",\"legitimo\",\"sospechosa\"]\n",
        "print(data.shape)\n",
        "print(pd.value_counts(data['Result'], sort = True))\n",
        "\n",
        "count_classes = pd.value_counts(data['Result'], sort = True)\n",
        "count_classes.plot(kind = 'bar', rot=0)\n",
        "plt.xticks(range(3), LABELS)\n",
        "plt.title(\"Frecuencia de observaciones\")\n",
        "plt.xlabel(\"Clases\")\n",
        "plt.ylabel(\"Numero de observaciones\");"
      ],
      "metadata": {
        "colab": {
          "base_uri": "https://localhost:8080/",
          "height": 382
        },
        "id": "sxya6t65Pzmk",
        "outputId": "b3afc087-3643-4ba7-c2fa-3bce0e564b2d"
      },
      "execution_count": 420,
      "outputs": [
        {
          "output_type": "stream",
          "name": "stdout",
          "text": [
            "(1353, 10)\n",
            "-1    702\n",
            " 1    548\n",
            " 0    103\n",
            "Name: Result, dtype: int64\n"
          ]
        },
        {
          "output_type": "display_data",
          "data": {
            "text/plain": [
              "<Figure size 432x288 with 1 Axes>"
            ],
            "image/png": "[encoded data removed]"
          },
          "metadata": {
            "needs_background": "light"
          }
        }
      ]
    },
    {
      "cell_type": "code",
      "source": [
        "correlacion=data.corr()\n",
        "correlacion['Result'].sort_values(ascending=False)\n",
        "sns.heatmap(correlacion,xticklabels=correlacion.columns.values,yticklabels=correlacion.columns.values,cmap='RdYlGn')"
      ],
      "metadata": {
        "colab": {
          "base_uri": "https://localhost:8080/",
          "height": 369
        },
        "id": "LqnY6tGNP0k1",
        "outputId": "e9bc544c-8982-4308-cb03-331e7b879994"
      },
      "execution_count": 421,
      "outputs": [
        {
          "output_type": "execute_result",
          "data": {
            "text/plain": [
              "<matplotlib.axes._subplots.AxesSubplot at 0x7f799e7c1d50>"
            ]
          },
          "metadata": {},
          "execution_count": 421
        },
        {
          "output_type": "display_data",
          "data": {
            "text/plain": [
              "<Figure size 432x288 with 2 Axes>"
            ],
            "image/png": "[encoded data removed]"
          },
          "metadata": {
            "needs_background": "light"
          }
        }
      ]
    },
    {
      "cell_type": "code",
      "source": [
        "#separando datos en variables dependientes e independientes\n",
        "X=data.iloc[:,:-1].values\n",
        "y=data.iloc[:,-1].values\n",
        "\n",
        "from sklearn.model_selection import train_test_split\n",
        "X_train,X_test,y_train,y_test=train_test_split(X,y,test_size=0.2,random_state=0)\n"
      ],
      "metadata": {
        "id": "FW2arGn3QCqA"
      },
      "execution_count": 422,
      "outputs": []
    },
    {
      "cell_type": "code",
      "source": [
        "# Introducir las bibliotecas necesarias graficar roc\n",
        "\n",
        "import numpy as np\n",
        "import matplotlib.pyplot as plt\n",
        "from itertools import cycle\n",
        "from sklearn import svm, datasets\n",
        "from sklearn.metrics import roc_curve, auc\n",
        "from sklearn.model_selection import train_test_split\n",
        "from sklearn.preprocessing import label_binarize\n",
        "from sklearn.multiclass import OneVsRestClassifier\n",
        "from scipy import interp\n",
        "\n",
        "\n",
        "# Binarizar la etiqueta\n",
        "y = label_binarize(y, classes=[1,2,3])\n",
        "# Establecer tipo\n",
        "n_classes = y.shape[1]\n"
      ],
      "metadata": {
        "id": "cAn6pQ6PYY5E"
      },
      "execution_count": 423,
      "outputs": []
    },
    {
      "cell_type": "code",
      "source": [
        "#genera matrices de confucion para comparacion\n",
        "\n",
        "def matrizconfusion(matriz):\n",
        "  matriz1=[]\n",
        "  matriz2=[]\n",
        "  matriz3=[]\n",
        "  aux=[]\n",
        "\n",
        "  x1=int(matriz[0][0])\n",
        "  x2=int(matriz[0][1]) + int(matriz[0][2])\n",
        "  x3=int(matriz[1][0]) +int(matriz[2][0])\n",
        "  x4=int(matriz[1][1]) +int(matriz[1][2])+int(matriz[2][1]) +int(matriz[2][2])\n",
        "\n",
        "  matriz1=[[x1,x2],[x3,x4]]\n",
        "\n",
        "  x1=int(matriz[1][1])\n",
        "  x2=int(matriz[1][0]) + int(matriz[1][2])\n",
        "  x3=int(matriz[0][1]) +int(matriz[2][1])\n",
        "  x4=int(matriz[0][0]) +int(matriz[0][2])+int(matriz[2][0]) +int(matriz[2][2])\n",
        "  matriz2=[[x1,x2],[x3,x4]]\n",
        "  \n",
        "\n",
        "  x1=int(matriz[2][2])\n",
        "  x2=int(matriz[2][0]) + int(matriz[2][1])\n",
        "  x3=int(matriz[0][2]) +int(matriz[1][2])\n",
        "  x4=int(matriz[0][0]) +int(matriz[0][1])+int(matriz[1][0]) +int(matriz[1][1])\n",
        "  matriz3=[[x1,x2],[x3,x4]]\n",
        "\n",
        "  print(\"\\n\\n\")\n",
        "  for i in matriz1:\n",
        "    print(i)\n",
        "  print(\"\\n\")\n",
        "  for i in matriz2:\n",
        "    print(i)\n",
        "  print(\"\\n\")\n",
        "  for i in matriz3:\n",
        "    print(i)\n",
        "  \n",
        "\n"
      ],
      "metadata": {
        "id": "euXWEldBQC3J"
      },
      "execution_count": 424,
      "outputs": []
    },
    {
      "cell_type": "code",
      "source": [
        "#reportes\n",
        "def reporte(y_pred):\n",
        "  print(\"Reporte de clasificacion\",classification_report(y_test, y_pred))\n",
        "  print(\"matriz de confusion: \\n\",confusion_matrix(y_test, y_pred))"
      ],
      "metadata": {
        "id": "B0-baEgdQC7W"
      },
      "execution_count": 425,
      "outputs": []
    },
    {
      "cell_type": "code",
      "source": [
        "#arboles de clasificacion con desbalanceo\n",
        "clasificador=DecisionTreeClassifier()\n",
        "clasificador.fit(X_train,y_train)\n",
        "y_pred=clasificador.predict(X_test)\n",
        "matriz=confusion_matrix(y_test, y_pred)\n",
        "\n",
        "matriz=confusion_matrix(y_test, y_pred)\n",
        "reporte(y_pred)\n",
        "matrizconfusion(matriz)\n",
        "\n"
      ],
      "metadata": {
        "colab": {
          "base_uri": "https://localhost:8080/"
        },
        "id": "7rWw01V5QC-X",
        "outputId": "c6ef3566-e778-4c9c-eb4e-c7de702068b0"
      },
      "execution_count": 426,
      "outputs": [
        {
          "output_type": "stream",
          "name": "stdout",
          "text": [
            "Reporte de clasificacion               precision    recall  f1-score   support\n",
            "\n",
            "          -1       0.87      0.88      0.87       137\n",
            "           0       0.90      0.90      0.90        21\n",
            "           1       0.85      0.84      0.84       113\n",
            "\n",
            "    accuracy                           0.86       271\n",
            "   macro avg       0.87      0.87      0.87       271\n",
            "weighted avg       0.86      0.86      0.86       271\n",
            "\n",
            "matriz de confusion: \n",
            " [[120   1  16]\n",
            " [  1  19   1]\n",
            " [ 17   1  95]]\n",
            "\n",
            "\n",
            "\n",
            "[120, 17]\n",
            "[18, 116]\n",
            "\n",
            "\n",
            "[19, 2]\n",
            "[2, 248]\n",
            "\n",
            "\n",
            "[95, 18]\n",
            "[17, 141]\n"
          ]
        }
      ]
    },
    {
      "cell_type": "code",
      "source": [
        "#balanceando las clases\n",
        "clasificador=DecisionTreeClassifier(class_weight=\"balanced\")\n",
        "clasificador.fit(X_train,y_train)\n",
        "y_pred=clasificador.predict(X_test)\n",
        "\n",
        "matriz=confusion_matrix(y_test, y_pred)\n",
        "reporte(y_pred)\n",
        "matrizconfusion(matriz)\n",
        "\n",
        "\n"
      ],
      "metadata": {
        "colab": {
          "base_uri": "https://localhost:8080/"
        },
        "id": "soUt2RlKQDA6",
        "outputId": "da27acfb-53a3-4deb-cdec-91f5c46bf1f1"
      },
      "execution_count": 427,
      "outputs": [
        {
          "output_type": "stream",
          "name": "stdout",
          "text": [
            "Reporte de clasificacion               precision    recall  f1-score   support\n",
            "\n",
            "          -1       0.90      0.85      0.88       137\n",
            "           0       0.88      1.00      0.93        21\n",
            "           1       0.85      0.88      0.86       113\n",
            "\n",
            "    accuracy                           0.87       271\n",
            "   macro avg       0.87      0.91      0.89       271\n",
            "weighted avg       0.88      0.87      0.87       271\n",
            "\n",
            "matriz de confusion: \n",
            " [[117   2  18]\n",
            " [  0  21   0]\n",
            " [ 13   1  99]]\n",
            "\n",
            "\n",
            "\n",
            "[117, 20]\n",
            "[13, 121]\n",
            "\n",
            "\n",
            "[21, 0]\n",
            "[3, 247]\n",
            "\n",
            "\n",
            "[99, 14]\n",
            "[18, 140]\n"
          ]
        }
      ]
    },
    {
      "cell_type": "code",
      "source": [
        "#Svm\n",
        "clasificador=SVC()\n",
        "clasificador.fit(X_train,y_train)\n",
        "y_pred=clasificador.predict(X_test)\n",
        "\n",
        "matriz=confusion_matrix(y_test, y_pred)\n",
        "reporte(y_pred)\n",
        "matrizconfusion(matriz)"
      ],
      "metadata": {
        "id": "bREBDjM6CGAb",
        "outputId": "9ad6f412-9e84-4118-af6e-6460f488f557",
        "colab": {
          "base_uri": "https://localhost:8080/"
        }
      },
      "execution_count": 428,
      "outputs": [
        {
          "output_type": "stream",
          "name": "stdout",
          "text": [
            "Reporte de clasificacion               precision    recall  f1-score   support\n",
            "\n",
            "          -1       0.87      0.88      0.88       137\n",
            "           0       1.00      0.19      0.32        21\n",
            "           1       0.76      0.86      0.80       113\n",
            "\n",
            "    accuracy                           0.82       271\n",
            "   macro avg       0.88      0.64      0.67       271\n",
            "weighted avg       0.83      0.82      0.80       271\n",
            "\n",
            "matriz de confusion: \n",
            " [[121   0  16]\n",
            " [  2   4  15]\n",
            " [ 16   0  97]]\n",
            "\n",
            "\n",
            "\n",
            "[121, 16]\n",
            "[18, 116]\n",
            "\n",
            "\n",
            "[4, 17]\n",
            "[0, 250]\n",
            "\n",
            "\n",
            "[97, 16]\n",
            "[31, 127]\n"
          ]
        }
      ]
    },
    {
      "cell_type": "code",
      "source": [
        "#Svm\n",
        "clasificador=SVC(C=10, gamma=0.6,class_weight=\"balanced\")\n",
        "clasificador.fit(X_train,y_train)\n",
        "y_pred=clasificador.predict(X_test)\n",
        "\n",
        "matriz=confusion_matrix(y_test, y_pred)\n",
        "reporte(y_pred)\n",
        "matrizconfusion(matriz)\n",
        "\n"
      ],
      "metadata": {
        "colab": {
          "base_uri": "https://localhost:8080/"
        },
        "id": "Qg0mdKATQDDL",
        "outputId": "aa1612ec-7265-40d9-a220-84521bc9edf5"
      },
      "execution_count": 429,
      "outputs": [
        {
          "output_type": "stream",
          "name": "stdout",
          "text": [
            "Reporte de clasificacion               precision    recall  f1-score   support\n",
            "\n",
            "          -1       0.91      0.86      0.88       137\n",
            "           0       0.95      0.95      0.95        21\n",
            "           1       0.84      0.89      0.87       113\n",
            "\n",
            "    accuracy                           0.88       271\n",
            "   macro avg       0.90      0.90      0.90       271\n",
            "weighted avg       0.88      0.88      0.88       271\n",
            "\n",
            "matriz de confusion: \n",
            " [[118   0  19]\n",
            " [  1  20   0]\n",
            " [ 11   1 101]]\n",
            "\n",
            "\n",
            "\n",
            "[118, 19]\n",
            "[12, 122]\n",
            "\n",
            "\n",
            "[20, 1]\n",
            "[1, 249]\n",
            "\n",
            "\n",
            "[101, 12]\n",
            "[19, 139]\n"
          ]
        }
      ]
    },
    {
      "cell_type": "code",
      "source": [
        "clf_rf = RandomForestClassifier(class_weight=\"balanced\")\n",
        "\n",
        "clf_rf.fit(X_train, y_train)\n",
        "y_pred = clf_rf.predict(X_test)\n",
        "\n",
        "#Resumende predicciones hechas\n",
        "matriz=confusion_matrix(y_test, y_pred)\n",
        "reporte(y_pred)\n",
        "matrizconfusion(matriz)\n"
      ],
      "metadata": {
        "colab": {
          "base_uri": "https://localhost:8080/"
        },
        "id": "b0WizNXpQDFX",
        "outputId": "3c6c35e7-567f-4843-8f24-91648a5dad03"
      },
      "execution_count": 430,
      "outputs": [
        {
          "output_type": "stream",
          "name": "stdout",
          "text": [
            "Reporte de clasificacion               precision    recall  f1-score   support\n",
            "\n",
            "          -1       0.88      0.88      0.88       137\n",
            "           0       0.95      0.90      0.93        21\n",
            "           1       0.84      0.86      0.85       113\n",
            "\n",
            "    accuracy                           0.87       271\n",
            "   macro avg       0.89      0.88      0.89       271\n",
            "weighted avg       0.87      0.87      0.87       271\n",
            "\n",
            "matriz de confusion: \n",
            " [[120   0  17]\n",
            " [  1  19   1]\n",
            " [ 15   1  97]]\n",
            "\n",
            "\n",
            "\n",
            "[120, 17]\n",
            "[16, 118]\n",
            "\n",
            "\n",
            "[19, 2]\n",
            "[1, 249]\n",
            "\n",
            "\n",
            "[97, 16]\n",
            "[18, 140]\n"
          ]
        }
      ]
    },
    {
      "cell_type": "code",
      "source": [
        "clf_gb = GradientBoostingClassifier(n_estimators=100, random_state=5, max_depth=5, learning_rate=0.1)\n",
        "\n",
        "clf_gb.fit(X_train, y_train)\n",
        "y_pred = clf_gb.predict(X_test)\n",
        "#Resumende predicciones hechas\n",
        "matriz=confusion_matrix(y_test, y_pred)\n",
        "reporte(y_pred)\n",
        "matrizconfusion(matriz)\n"
      ],
      "metadata": {
        "colab": {
          "base_uri": "https://localhost:8080/"
        },
        "id": "AQbWQs0DQDJA",
        "outputId": "64979f89-e26b-4040-b66d-11cea6a3c61f"
      },
      "execution_count": 431,
      "outputs": [
        {
          "output_type": "stream",
          "name": "stdout",
          "text": [
            "Reporte de clasificacion               precision    recall  f1-score   support\n",
            "\n",
            "          -1       0.86      0.88      0.87       137\n",
            "           0       0.90      0.86      0.88        21\n",
            "           1       0.84      0.83      0.84       113\n",
            "\n",
            "    accuracy                           0.86       271\n",
            "   macro avg       0.87      0.85      0.86       271\n",
            "weighted avg       0.86      0.86      0.86       271\n",
            "\n",
            "matriz de confusion: \n",
            " [[120   0  17]\n",
            " [  2  18   1]\n",
            " [ 17   2  94]]\n",
            "\n",
            "\n",
            "\n",
            "[120, 17]\n",
            "[19, 115]\n",
            "\n",
            "\n",
            "[18, 3]\n",
            "[2, 248]\n",
            "\n",
            "\n",
            "[94, 19]\n",
            "[18, 140]\n"
          ]
        }
      ]
    },
    {
      "cell_type": "code",
      "source": [
        "clf_xgb = xgb.XGBClassifier(class_weight=\"balanced\")\n",
        "\n",
        "clf_xgb.fit(X_train, y_train)\n",
        "y_pred = clf_xgb.predict(X_test)\n",
        "\n",
        "#Resumende predicciones hechas\n",
        "matriz=confusion_matrix(y_test, y_pred)\n",
        "reporte(y_pred)\n",
        "matrizconfusion(matriz)\n",
        "\n",
        "\n"
      ],
      "metadata": {
        "colab": {
          "base_uri": "https://localhost:8080/"
        },
        "id": "xH-khdPvQDMM",
        "outputId": "39e19fba-0d4a-4575-bce1-abb254dee9c2"
      },
      "execution_count": 432,
      "outputs": [
        {
          "output_type": "stream",
          "name": "stdout",
          "text": [
            "Reporte de clasificacion               precision    recall  f1-score   support\n",
            "\n",
            "          -1       0.88      0.90      0.89       137\n",
            "           0       0.87      0.62      0.72        21\n",
            "           1       0.84      0.87      0.85       113\n",
            "\n",
            "    accuracy                           0.86       271\n",
            "   macro avg       0.86      0.79      0.82       271\n",
            "weighted avg       0.86      0.86      0.86       271\n",
            "\n",
            "matriz de confusion: \n",
            " [[123   2  12]\n",
            " [  1  13   7]\n",
            " [ 15   0  98]]\n",
            "\n",
            "\n",
            "\n",
            "[123, 14]\n",
            "[16, 118]\n",
            "\n",
            "\n",
            "[13, 8]\n",
            "[2, 248]\n",
            "\n",
            "\n",
            "[98, 15]\n",
            "[19, 139]\n"
          ]
        }
      ]
    },
    {
      "cell_type": "code",
      "source": [
        "# Binarizar la etiqueta\n",
        "y = label_binarize(y, classes=[-1,0,1])\n",
        "# Establecer tipo\n",
        "n_classes = y.shape[1]\n",
        "# Entrene el modelo y prediga\n",
        "X_train,X_test,y_train,y_test=train_test_split(X,y,test_size=.2,random_state=0)\n",
        "\n"
      ],
      "metadata": {
        "id": "W4qRFvWZbRni"
      },
      "execution_count": 433,
      "outputs": []
    },
    {
      "cell_type": "code",
      "source": [
        "\n",
        "# arbol de decicion\n",
        "\n",
        "classifier = OneVsRestClassifier(DecisionTreeClassifier(class_weight=\"balanced\"))\n",
        "y_score = classifier.fit(X_train, y_train).predict_proba (X_test)\n",
        "\n",
        "\n",
        "# svm\n",
        "classifier = OneVsRestClassifier(SVC(C=10, gamma=0.6,class_weight=\"balanced\",probability=True))\n",
        "y_score = classifier.fit(X_train, y_train).decision_function(X_test)\n",
        "\n",
        "# random forest\n",
        "classifier = OneVsRestClassifier(RandomForestClassifier(class_weight=\"balanced\"))\n",
        "y_score = classifier.fit(X_train, y_train).predict_proba (X_test)\n",
        "\n",
        "\"\"\"\n",
        "# gradientboost\n",
        "classifier = OneVsRestClassifier(GradientBoostingClassifier(n_estimators=100, max_depth=5, learning_rate=0.1))\n",
        "y_score = classifier.fit(X_train, y_train).predict_proba (X_test)\n",
        "\n",
        "# XGboost\n",
        "classifier = OneVsRestClassifier(xgb.XGBClassifier(n_estimators=100,max_depth=5, learning_rate=0.1,class_weight=\"balanced\"))\n",
        "y_score = classifier.fit(X_train, y_train).predict_proba (X_test)\n",
        "\"\"\"\n",
        "\n",
        "# Calcule la ROC de cada categoría\n",
        "fpr = dict()\n",
        "tpr = dict()\n",
        "roc_auc = dict()\n",
        "for i in range(n_classes):\n",
        "    fpr[i], tpr[i], _ = roc_curve(y_test[:, i], y_score[:, i])\n",
        "    roc_auc[i] = auc(fpr[i], tpr[i])\n",
        "\n",
        "\"\"\"\n",
        "# Calcular la curva ROC y el área ROC de micropromedio (2)\n",
        "fpr[\"micro\"], tpr[\"micro\"], _ = roc_curve(y_test.ravel(), y_score.ravel())\n",
        "roc_auc[\"micro\"] = auc(fpr[\"micro\"], tpr[\"micro\"])\n",
        "\n",
        "\n",
        "# Calcule la curva ROC macro-promedio y el área ROC (1)\n",
        "\n",
        "all_fpr = np.unique(np.concatenate([fpr[i] for i in range(n_classes)]))\n",
        "\n",
        "\n",
        "mean_tpr = np.zeros_like(all_fpr)\n",
        "for i in range(n_classes):\n",
        "    mean_tpr += interp(all_fpr, fpr[i], tpr[i])\n",
        "\n",
        "\n",
        "mean_tpr /= n_classes\n",
        "\n",
        "lw=2\n",
        "plt.figure()\n",
        "\n",
        "plt.plot(fpr[\"micro\"], tpr[\"micro\"],\n",
        "         label='promedio curva ROC  (area = {0:0.2f})'\n",
        "               ''.format(roc_auc[\"micro\"]),\n",
        "         color='deeppink', linestyle=':', linewidth=4)\n",
        "\"\"\"\n",
        "colors = cycle(['aqua', 'darkorange', 'cornflowerblue'])\n",
        "for i, color in zip(range(1), colors):\n",
        "    plt.plot(fpr[i], tpr[i], color=color, lw=lw,\n",
        "             label='ROC (area = {1:0.2f})'\n",
        "             ''.format(i, roc_auc[i]))\n",
        "\n",
        "\n",
        "plt.plot([0, 1], [0, 1], 'k--', lw=lw)\n",
        "plt.xlim([0.0, 1.0])\n",
        "plt.ylim([0.0, 1.05])\n",
        "plt.xlabel('Radio Falsos negativos')\n",
        "plt.ylabel('Radio vedaderos positivos')\n",
        "plt.title('Roc')\n",
        "plt.legend(loc=\"lower right\")\n",
        "plt.show()\n"
      ],
      "metadata": {
        "colab": {
          "base_uri": "https://localhost:8080/",
          "height": 593
        },
        "id": "BD7OJjAFhfRn",
        "outputId": "6d85007d-88f2-45d6-ac4a-af28f06038f4"
      },
      "execution_count": 434,
      "outputs": [
        {
          "output_type": "stream",
          "name": "stderr",
          "text": [
            "/usr/local/lib/python3.7/dist-packages/sklearn/multiclass.py:80: UserWarning: Label not 1 is present in all training examples.\n",
            "  \"Label %s is present in all training examples.\" % str(classes[c])\n",
            "/usr/local/lib/python3.7/dist-packages/sklearn/multiclass.py:80: UserWarning: Label not 2 is present in all training examples.\n",
            "  \"Label %s is present in all training examples.\" % str(classes[c])\n",
            "/usr/local/lib/python3.7/dist-packages/sklearn/multiclass.py:80: UserWarning: Label not 1 is present in all training examples.\n",
            "  \"Label %s is present in all training examples.\" % str(classes[c])\n",
            "/usr/local/lib/python3.7/dist-packages/sklearn/multiclass.py:80: UserWarning: Label not 2 is present in all training examples.\n",
            "  \"Label %s is present in all training examples.\" % str(classes[c])\n",
            "/usr/local/lib/python3.7/dist-packages/sklearn/multiclass.py:80: UserWarning: Label not 1 is present in all training examples.\n",
            "  \"Label %s is present in all training examples.\" % str(classes[c])\n",
            "/usr/local/lib/python3.7/dist-packages/sklearn/multiclass.py:80: UserWarning: Label not 2 is present in all training examples.\n",
            "  \"Label %s is present in all training examples.\" % str(classes[c])\n",
            "/usr/local/lib/python3.7/dist-packages/sklearn/metrics/_ranking.py:1001: UndefinedMetricWarning: No positive samples in y_true, true positive value should be meaningless\n",
            "  UndefinedMetricWarning,\n",
            "/usr/local/lib/python3.7/dist-packages/sklearn/metrics/_ranking.py:1001: UndefinedMetricWarning: No positive samples in y_true, true positive value should be meaningless\n",
            "  UndefinedMetricWarning,\n"
          ]
        },
        {
          "output_type": "display_data",
          "data": {
            "text/plain": [
              "<Figure size 432x288 with 1 Axes>"
            ],
            "image/png": "[encoded data removed]"
          },
          "metadata": {
            "needs_background": "light"
          }
        }
      ]
    },
    {
      "cell_type": "code",
      "source": [
        "\n"
      ],
      "metadata": {
        "id": "MpAXG3VRCrNm"
      },
      "execution_count": 434,
      "outputs": []
    }
  ]
}